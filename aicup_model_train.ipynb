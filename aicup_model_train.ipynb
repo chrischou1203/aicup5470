{
  "cells": [
    {
      "cell_type": "markdown",
      "metadata": {
        "id": "view-in-github",
        "colab_type": "text"
      },
      "source": [
        "<a href=\"https://colab.research.google.com/github/chrischou1203/aicup5470/blob/main/aicup_model_train.ipynb\" target=\"_parent\"><img src=\"https://colab.research.google.com/assets/colab-badge.svg\" alt=\"Open In Colab\"/></a>"
      ]
    },
    {
      "cell_type": "markdown",
      "metadata": {
        "id": "OrQckfgKPREo"
      },
      "source": [
        "# **Model_train**"
      ]
    },
    {
      "cell_type": "markdown",
      "metadata": {
        "id": "-5bMuXJBPepX"
      },
      "source": [
        "# 環境建置\n",
        "掛接雲端硬碟\n"
      ]
    },
    {
      "cell_type": "code",
      "execution_count": null,
      "metadata": {
        "id": "838IMyfUwRxf"
      },
      "outputs": [],
      "source": [
        "from google.colab import drive\n",
        "drive.mount('/content/drive')"
      ]
    },
    {
      "cell_type": "markdown",
      "metadata": {
        "id": "IM0Su8vNPji-"
      },
      "source": [
        "這個函數允許你在不更改 requirements 檔案中其他依賴的情況下，將指定庫的版本替換為通用版本。"
      ]
    },
    {
      "cell_type": "code",
      "execution_count": null,
      "metadata": {
        "id": "YFcuH4vfAa5G"
      },
      "outputs": [],
      "source": [
        "def replaceVersionedLibraryForGenericVersion(requirementsFilePath, libraryName) -> None:\n",
        "  requirementsFile = open(requirementsFilePath, \"r\")\n",
        "  editedRequirementsText = []\n",
        "  libCheckString = libraryName + \"==\"\n",
        "  for line in requirementsFile:\n",
        "    if libCheckString in line:\n",
        "      editedRequirementsText.append(libraryName + \"\\n\")\n",
        "    else:\n",
        "      editedRequirementsText.append(line)\n",
        "  requirementsFile.close()\n",
        "  newRequirementsFile = open(requirementsFilePath, \"w\")\n",
        "  newRequirementsFile.writelines(editedRequirementsText)\n",
        "  newRequirementsFile.close()"
      ]
    },
    {
      "cell_type": "code",
      "execution_count": null,
      "metadata": {
        "id": "9vyDh3_46R0-"
      },
      "outputs": [],
      "source": [
        "replaceVersionedLibraryForGenericVersion(\"/content/drive/MyDrive/aicup/requirements.txt\", \"onnxruntime\")"
      ]
    },
    {
      "cell_type": "markdown",
      "metadata": {
        "id": "COSfnBl_Qdn8"
      },
      "source": [
        "sudo apt-get install python3.7：這個命令安裝 Python 3.7 版本。sudo 用於以超級用戶權限運行命令，apt-get install 是用於安裝軟件包的包管理器指令。\n",
        "\n",
        "sudo apt-get update -y：這個命令用於更新軟件包列表和相關依賴。-y 選項表示自動接受所有更新，不需要手動確認。\n",
        "\n",
        "sudo update-alternatives --install /usr/bin/python3 python3 /usr/bin/python3.7 1：這個命令將 Python 3.7 添加到系統的替代命令列表中。這樣做是為了確保在系統上同時安裝了多個 Python 版本時，可以輕鬆切換版本。\n",
        "\n",
        "sudo update-alternatives --config python3：這個命令用於選擇要使用的 Python 版本。在安裝了多個版本的 Python 後，你可以選擇預設要使用的版本。\n",
        "\n",
        "sudo apt install python3-pip：最後這個命令安裝了 Python 3 的 pip 套件管理器。pip 用於安裝 Python 套件和庫。\n",
        "\n",
        "這些命令一起用於在你的系統上安裝 Python 3.7，設置其作為預設的 Python 版本，並安裝 pip 套件管理器，以便你可以管理 Python 套件。"
      ]
    },
    {
      "cell_type": "code",
      "execution_count": null,
      "metadata": {
        "collapsed": true,
        "id": "97ux2KeKGV4W"
      },
      "outputs": [],
      "source": [
        "!sudo apt-get install python3.7\n",
        "!sudo apt-get update -y\n",
        "!sudo update-alternatives --install /usr/bin/python3 python3 /usr/bin/python3.7 1\n",
        "!sudo update-alternatives --config python3\n",
        "!sudo apt install python3-pip"
      ]
    },
    {
      "cell_type": "markdown",
      "metadata": {
        "id": "RfHa9FFOQxdL"
      },
      "source": [
        "python3.7-distutils 是 Python 3.7 版本的一個特定軟體包，它包含了 Python 3.7 中的 distutils 模組，用於在 Python 中建構和分發軟體包。在某些系統中，這個軟體包可能不是默認安裝的，但在安裝一些 Python 3.7 版本的軟體包時可能會需要。"
      ]
    },
    {
      "cell_type": "code",
      "execution_count": null,
      "metadata": {
        "collapsed": true,
        "id": "U-YnvZ-cIMer"
      },
      "outputs": [],
      "source": [
        "!sudo apt-get install python3.7-distutils"
      ]
    },
    {
      "cell_type": "markdown",
      "metadata": {
        "id": "TL9LfZY2Q78F"
      },
      "source": [
        "libpython3.7-dev 是用於開發 Python 3.7 相關擴展和程序的相關開發文件和庫的軟體包。通常在需要編譯和構建 Python 擴展或與 Python 3.7 進行交互的其他程序時需要安裝此軟體包。"
      ]
    },
    {
      "cell_type": "code",
      "execution_count": null,
      "metadata": {
        "colab": {
          "base_uri": "https://localhost:8080/"
        },
        "id": "MV0Qy5y8TDBW",
        "outputId": "5fdfa048-b279-40dc-be22-1a845e5a9e9f"
      },
      "outputs": [
        {
          "output_type": "stream",
          "name": "stdout",
          "text": [
            "Reading package lists... Done\n",
            "Building dependency tree... Done\n",
            "Reading state information... Done\n",
            "libpython3.7-dev is already the newest version (3.7.17-1+jammy1).\n",
            "0 upgraded, 0 newly installed, 0 to remove and 51 not upgraded.\n"
          ]
        }
      ],
      "source": [
        "!sudo apt install libpython3.7-dev"
      ]
    },
    {
      "cell_type": "markdown",
      "metadata": {
        "id": "GKOMD_HKRG04"
      },
      "source": [
        "這個命令用於升級 pip、setuptools 和 wheel 到它們的最新版本。這些是 Python 開發中常用的工具，pip 用於安裝 Python 套件，setuptools 用於打包 Python 套件，而 wheel 是一種 Python 套件的二進制打包格式，可以加快套件的安裝速度"
      ]
    },
    {
      "cell_type": "code",
      "execution_count": null,
      "metadata": {
        "colab": {
          "base_uri": "https://localhost:8080/"
        },
        "collapsed": true,
        "id": "ItO__ug9tvy6",
        "outputId": "cf8f68b8-c37e-4e4f-fe94-88b349bcb567"
      },
      "outputs": [
        {
          "output_type": "stream",
          "name": "stdout",
          "text": [
            "Requirement already satisfied: pip in /usr/local/lib/python3.7/dist-packages (24.0)\n",
            "Requirement already satisfied: setuptools in /usr/local/lib/python3.7/dist-packages (68.0.0)\n",
            "Requirement already satisfied: wheel in /usr/local/lib/python3.7/dist-packages (0.42.0)\n",
            "\u001b[33mWARNING: Running pip as the 'root' user can result in broken permissions and conflicting behaviour with the system package manager. It is recommended to use a virtual environment instead: https://pip.pypa.io/warnings/venv\u001b[0m\u001b[33m\n",
            "\u001b[0m"
          ]
        }
      ],
      "source": [
        "pip install --upgrade pip setuptools wheel"
      ]
    },
    {
      "cell_type": "markdown",
      "metadata": {
        "id": "DNi1iyMjRlPl"
      },
      "source": [
        "這個命令將安裝指定版本的 ONNX 套件（1.8.1）。ONNX 是一個開源的深度學習模型交換格式，可以讓不同深度學習框架之間共享模型。"
      ]
    },
    {
      "cell_type": "code",
      "execution_count": null,
      "metadata": {
        "id": "rb79PAkbpeK0"
      },
      "outputs": [],
      "source": [
        "pip install onnx==1.8.1"
      ]
    },
    {
      "cell_type": "markdown",
      "metadata": {
        "id": "gnONr6tcRnM-"
      },
      "source": [
        "檢查onnx版本是不是1.8.1"
      ]
    },
    {
      "cell_type": "code",
      "execution_count": null,
      "metadata": {
        "colab": {
          "base_uri": "https://localhost:8080/"
        },
        "id": "lJUEEIRsKrJc",
        "outputId": "8caad8fa-9599-4938-cabd-caefdc4282f1"
      },
      "outputs": [
        {
          "output_type": "stream",
          "name": "stdout",
          "text": [
            "Name: onnx\n",
            "Version: 1.8.1\n",
            "Summary: Open Neural Network Exchange\n",
            "Home-page: https://github.com/onnx/onnx\n",
            "Author: ONNX\n",
            "Author-email: onnx-technical-discuss@lists.lfai.foundation\n",
            "License: MIT\n",
            "Location: /usr/local/lib/python3.7/dist-packages\n",
            "Requires: numpy, protobuf, six, typing-extensions\n",
            "Required-by: \n"
          ]
        }
      ],
      "source": [
        "pip show onnx"
      ]
    },
    {
      "cell_type": "markdown",
      "metadata": {
        "id": "yQT6ndTcR1D9"
      },
      "source": [
        "這個命令將根據指定的 requirements.txt 文件中列出的依賴關係安裝所需的所有套件。該命令會逐行讀取 requirements.txt 文件，並將其中列出的每個套件安裝到你的 Python 環境中。requirements.txt的路徑不同使用者掛接雲端硬碟將有可能會使檔案路徑改變，請先複製正確的requirements.txt絕對路徑貼在-r 之後，再執行此儲存格。**若有error和warning請忽略並按\"取消\"**，請繼續向下個儲存格執行。"
      ]
    },
    {
      "cell_type": "code",
      "execution_count": null,
      "metadata": {
        "id": "Ioht_NNuB70G"
      },
      "outputs": [],
      "source": [
        "pip install -r /content/drive/MyDrive/aicup/requirements.txt"
      ]
    },
    {
      "cell_type": "markdown",
      "metadata": {
        "id": "U9XUc7CESIRZ"
      },
      "source": [
        "安裝 Cython 和從 GitHub 安裝 COCO API。COCO API 是用於 COCO (Common Objects in Context) 資料集的 Python API，它提供了用於圖像標註和檢測的工具和函數"
      ]
    },
    {
      "cell_type": "code",
      "execution_count": null,
      "metadata": {
        "collapsed": true,
        "id": "v-oHas7L9VKy"
      },
      "outputs": [],
      "source": [
        "pip install cython; pip3 install 'git+https://github.com/cocodataset/cocoapi.git#subdirectory=PythonAPI'"
      ]
    },
    {
      "cell_type": "markdown",
      "metadata": {
        "id": "AXfldWVtSOLo"
      },
      "source": [
        "這個命令用於安裝 cython_bbox 套件，它是一個用於 Cython 編寫的工具，用於計算和操作邊界框（bounding box）的庫。"
      ]
    },
    {
      "cell_type": "code",
      "execution_count": null,
      "metadata": {
        "id": "yqjV94za91X8"
      },
      "outputs": [],
      "source": [
        "pip install cython_bbox"
      ]
    },
    {
      "cell_type": "markdown",
      "metadata": {
        "id": "N2LNH3r3SUsb"
      },
      "source": [
        "這個命令用於安裝 Faiss-GPU，它是一個高效的相似性搜索和聚類庫，特別是針對大規模數據集。Faiss-GPU 使用 GPU 加速相似性搜索，使得處理大規模數據時更加快速和高效。"
      ]
    },
    {
      "cell_type": "code",
      "execution_count": null,
      "metadata": {
        "id": "OQXC8MXe973N"
      },
      "outputs": [],
      "source": [
        "pip install faiss-gpu"
      ]
    },
    {
      "cell_type": "markdown",
      "source": [
        "### Prepare Prepare ReID Dataset"
      ],
      "metadata": {
        "id": "wqphe0sqrFxr"
      }
    },
    {
      "cell_type": "markdown",
      "metadata": {
        "id": "13xv54SRStKV"
      },
      "source": [
        "請確認絕對路徑正確性。在--data_path 後請放上所下載的datasets 下的子目錄train的路徑。接著到 您存放檔案的位置/aicup/fast_reid/datasets/generate_AICUP_patches.py中修改make_parser()的save path部分，將defult=後面填上您的aicup/fast_reid/datasets的位置，也是因為掛接雲端硬碟，絕對路徑皆有所不同，所以需要做這樣的動作。在你的datasets檔案夾中就會出現一個資料夾AICUP-ReID。若出現以下類似這種error FileNotFoundError: [Errno 2] No such file or directory: '/content/drive/MyDrive/aicup/test_train/labels/0902_190000_191900/3_00326 (1).txt'代表在上傳dataset資料夾至google雲端時，系統會不小心上傳同一張照片超過一次我們在建置環境時曾有遇到過，只要至相對應的資料夾刪除同名的照片就能順利進行訓練。"
      ]
    },
    {
      "cell_type": "code",
      "execution_count": null,
      "metadata": {
        "id": "dk_fPyB2MS_3",
        "collapsed": true
      },
      "outputs": [],
      "source": [
        "!python /content/drive/MyDrive/aicup/fast_reid/datasets/generate_AICUP_patches.py --data_path /content/drive/MyDrive/aicup/test_train\n"
      ]
    },
    {
      "cell_type": "markdown",
      "source": [
        "### Prepare YOLOv7 Dataset"
      ],
      "metadata": {
        "id": "srZtqzeA9Ynl"
      }
    },
    {
      "cell_type": "markdown",
      "source": [
        "下面三個位置分別為AICUP_to_YOLOv7.py的絕對路徑，dataset的絕對路徑，和你要產生資料的路徑，我們預設的輸出資料夾路徑是aicup/yolov7/yolo，請將這些路徑改成你們的絕對路徑。"
      ],
      "metadata": {
        "id": "WZQre7AjxYDe"
      }
    },
    {
      "cell_type": "code",
      "source": [
        "%cd \"/content/drive/MyDrive/aicup\"\n",
        "!pwd"
      ],
      "metadata": {
        "colab": {
          "base_uri": "https://localhost:8080/"
        },
        "id": "SHZhvKAZUqzu",
        "outputId": "13f8bd8a-a027-4b50-fb7a-049608b62c33"
      },
      "execution_count": null,
      "outputs": [
        {
          "output_type": "stream",
          "name": "stdout",
          "text": [
            "/content/drive/MyDrive/aicup\n",
            "/content/drive/MyDrive/aicup\n"
          ]
        }
      ]
    },
    {
      "cell_type": "code",
      "execution_count": null,
      "metadata": {
        "id": "JxWKPk71EcdG"
      },
      "outputs": [],
      "source": [
        "!python ./yolov7/tools/AICUP_to_YOLOv7.py --AICUP_dir ./test_train --YOLOv7_dir ./yolov7/yolo"
      ]
    },
    {
      "cell_type": "markdown",
      "source": [
        "###Train the ReID Module for AICUP"
      ],
      "metadata": {
        "id": "h2yQy-FX9s6r"
      }
    },
    {
      "cell_type": "markdown",
      "source": [
        "請先將連結到你們存放aicup資料夾的絕對路徑"
      ],
      "metadata": {
        "id": "0-mW9BiA2QTd"
      }
    },
    {
      "cell_type": "code",
      "source": [
        "%cd \"/content/drive/MyDrive/aicup\"\n",
        "!pwd"
      ],
      "metadata": {
        "colab": {
          "base_uri": "https://localhost:8080/"
        },
        "id": "vC2xyBNDYaF-",
        "outputId": "9b2ac2be-87c9-4e44-9322-4f46817c9f33"
      },
      "execution_count": null,
      "outputs": [
        {
          "output_type": "stream",
          "name": "stdout",
          "text": [
            "/content/drive/MyDrive/aicup\n",
            "/content/drive/MyDrive/aicup\n"
          ]
        }
      ]
    },
    {
      "cell_type": "markdown",
      "source": [
        "將train_net.py路徑設置正確接著將config-file的路徑設為bagtricks_R50-ibn.yml的絕對路徑，並對reid模型進行訓練，reid模型輸出預設在aicup/logs中"
      ],
      "metadata": {
        "id": "QDl6wRfd2b79"
      }
    },
    {
      "cell_type": "code",
      "source": [
        "!python ./fast_reid/tools/train_net.py --config-file /content/drive/MyDrive/aicup/fast_reid/configs/AICUP/bagtricks_R50-ibn.yml MODEL.DEVICE \"cuda:0\""
      ],
      "metadata": {
        "id": "PoKcoCmC038T",
        "collapsed": true
      },
      "execution_count": null,
      "outputs": []
    },
    {
      "cell_type": "markdown",
      "source": [
        "將train_aux.py路徑設置正確，再將-data的路徑連結到AICUP.yaml的絕對路徑，將-data的路徑連結到yolov7-w6-AICUP.yaml的絕對路徑，--weights的路徑連結到yolov7-w6.pt的絕對路徑，--hyp的路徑連結到hyp.scratch.custom.yaml的絕對路徑,--name可以自己設置名字。接著到AICUP.yaml裡面修改train和val的路徑，連接到prepare yolov7 data set輸出的資料夾裏頭的train和val路徑，最後就能成功對yolov7進行訓練，最後模型將存放於aicup/runs/train中"
      ],
      "metadata": {
        "id": "VHuiYtOR2uEo"
      }
    },
    {
      "cell_type": "code",
      "source": [
        "!python ./yolov7/train_aux.py --device 0 --batch-size 2 --epochs 50 --data /content/drive/MyDrive/aicup/yolov7/data/AICUP.yaml --img 1280 1280 --cfg /content/drive/MyDrive/aicup/yolov7/cfg/training/yolov7-w6-AICUP.yaml --weights /content/drive/MyDrive/aicup/pretrained/yolov7-w6.pt --name yolov7-w6-AICUP --hyp /content/drive/MyDrive/aicup/yolov7/data/hyp.scratch.custom.yaml"
      ],
      "metadata": {
        "id": "S6cJ8TSAHRA1"
      },
      "execution_count": null,
      "outputs": []
    },
    {
      "cell_type": "markdown",
      "metadata": {
        "id": "0eE5AyiUPPYC"
      },
      "source": []
    }
  ],
  "metadata": {
    "accelerator": "GPU",
    "colab": {
      "gpuType": "T4",
      "provenance": [],
      "authorship_tag": "ABX9TyPoEcWp3W8P+BkiVLbQ7K2V",
      "include_colab_link": true
    },
    "kernelspec": {
      "display_name": "Python 3",
      "name": "python3"
    },
    "language_info": {
      "name": "python"
    }
  },
  "nbformat": 4,
  "nbformat_minor": 0
}