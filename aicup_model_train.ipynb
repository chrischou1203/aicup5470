{
  "cells": [
    {
      "cell_type": "markdown",
      "metadata": {
        "id": "view-in-github",
        "colab_type": "text"
      },
      "source": [
        "<a href=\"https://colab.research.google.com/github/chrischou1203/aicup5470/blob/main/aicup_model_train.ipynb\" target=\"_parent\"><img src=\"https://colab.research.google.com/assets/colab-badge.svg\" alt=\"Open In Colab\"/></a>"
      ]
    },
    {
      "cell_type": "markdown",
      "metadata": {
        "id": "OrQckfgKPREo"
      },
      "source": [
        "# **Model_train**"
      ]
    },
    {
      "cell_type": "markdown",
      "metadata": {
        "id": "-5bMuXJBPepX"
      },
      "source": [
        "# 環境建置\n",
        "掛接雲端硬碟\n"
      ]
    },
    {
      "cell_type": "code",
      "execution_count": null,
      "metadata": {
        "colab": {
          "base_uri": "https://localhost:8080/"
        },
        "id": "838IMyfUwRxf",
        "outputId": "e4c70f28-521a-46d8-8efd-c5cb12303d61"
      },
      "outputs": [
        {
          "output_type": "stream",
          "name": "stdout",
          "text": [
            "Mounted at /content/drive\n"
          ]
        }
      ],
      "source": [
        "from google.colab import drive\n",
        "drive.mount('/content/drive')"
      ]
    },
    {
      "cell_type": "markdown",
      "metadata": {
        "id": "IM0Su8vNPji-"
      },
      "source": [
        "這個函數允許你在不更改 requirements 檔案中其他依賴的情況下，將指定庫的版本替換為通用版本。"
      ]
    },
    {
      "cell_type": "code",
      "execution_count": null,
      "metadata": {
        "id": "YFcuH4vfAa5G"
      },
      "outputs": [],
      "source": [
        "def replaceVersionedLibraryForGenericVersion(requirementsFilePath, libraryName) -> None:\n",
        "  requirementsFile = open(requirementsFilePath, \"r\")\n",
        "  editedRequirementsText = []\n",
        "  libCheckString = libraryName + \"==\"\n",
        "  for line in requirementsFile:\n",
        "    if libCheckString in line:\n",
        "      editedRequirementsText.append(libraryName + \"\\n\")\n",
        "    else:\n",
        "      editedRequirementsText.append(line)\n",
        "  requirementsFile.close()\n",
        "  newRequirementsFile = open(requirementsFilePath, \"w\")\n",
        "  newRequirementsFile.writelines(editedRequirementsText)\n",
        "  newRequirementsFile.close()"
      ]
    },
    {
      "cell_type": "code",
      "execution_count": null,
      "metadata": {
        "id": "9vyDh3_46R0-"
      },
      "outputs": [],
      "source": [
        "replaceVersionedLibraryForGenericVersion(\"/content/drive/MyDrive/aicup/requirements.txt\", \"onnxruntime\")"
      ]
    },
    {
      "cell_type": "markdown",
      "metadata": {
        "id": "COSfnBl_Qdn8"
      },
      "source": [
        "sudo apt-get install python3.7：這個命令安裝 Python 3.7 版本。sudo 用於以超級用戶權限運行命令，apt-get install 是用於安裝軟件包的包管理器指令。\n",
        "\n",
        "sudo apt-get update -y：這個命令用於更新軟件包列表和相關依賴。-y 選項表示自動接受所有更新，不需要手動確認。\n",
        "\n",
        "sudo update-alternatives --install /usr/bin/python3 python3 /usr/bin/python3.7 1：這個命令將 Python 3.7 添加到系統的替代命令列表中。這樣做是為了確保在系統上同時安裝了多個 Python 版本時，可以輕鬆切換版本。\n",
        "\n",
        "sudo update-alternatives --config python3：這個命令用於選擇要使用的 Python 版本。在安裝了多個版本的 Python 後，你可以選擇預設要使用的版本。\n",
        "\n",
        "sudo apt install python3-pip：最後這個命令安裝了 Python 3 的 pip 套件管理器。pip 用於安裝 Python 套件和庫。\n",
        "\n",
        "這些命令一起用於在你的系統上安裝 Python 3.7，設置其作為預設的 Python 版本，並安裝 pip 套件管理器，以便你可以管理 Python 套件。"
      ]
    },
    {
      "cell_type": "code",
      "execution_count": null,
      "metadata": {
        "collapsed": true,
        "id": "97ux2KeKGV4W"
      },
      "outputs": [],
      "source": [
        "!sudo apt-get install python3.7\n",
        "!sudo apt-get update -y\n",
        "!sudo update-alternatives --install /usr/bin/python3 python3 /usr/bin/python3.7 1\n",
        "!sudo update-alternatives --config python3\n",
        "!sudo apt install python3-pip"
      ]
    },
    {
      "cell_type": "markdown",
      "metadata": {
        "id": "RfHa9FFOQxdL"
      },
      "source": [
        "python3.7-distutils 是 Python 3.7 版本的一個特定軟體包，它包含了 Python 3.7 中的 distutils 模組，用於在 Python 中建構和分發軟體包。在某些系統中，這個軟體包可能不是默認安裝的，但在安裝一些 Python 3.7 版本的軟體包時可能會需要。"
      ]
    },
    {
      "cell_type": "code",
      "execution_count": null,
      "metadata": {
        "colab": {
          "base_uri": "https://localhost:8080/"
        },
        "collapsed": true,
        "id": "U-YnvZ-cIMer",
        "outputId": "5038bc4d-49a5-4bbc-a731-07399363c714"
      },
      "outputs": [
        {
          "output_type": "stream",
          "name": "stdout",
          "text": [
            "Reading package lists... Done\n",
            "Building dependency tree... Done\n",
            "Reading state information... Done\n",
            "python3.7-distutils is already the newest version (3.7.17-1+jammy1).\n",
            "0 upgraded, 0 newly installed, 0 to remove and 51 not upgraded.\n"
          ]
        }
      ],
      "source": [
        "!sudo apt-get install python3.7-distutils"
      ]
    },
    {
      "cell_type": "markdown",
      "metadata": {
        "id": "TL9LfZY2Q78F"
      },
      "source": [
        "libpython3.7-dev 是用於開發 Python 3.7 相關擴展和程序的相關開發文件和庫的軟體包。通常在需要編譯和構建 Python 擴展或與 Python 3.7 進行交互的其他程序時需要安裝此軟體包。"
      ]
    },
    {
      "cell_type": "code",
      "execution_count": null,
      "metadata": {
        "colab": {
          "base_uri": "https://localhost:8080/"
        },
        "id": "MV0Qy5y8TDBW",
        "outputId": "5fdfa048-b279-40dc-be22-1a845e5a9e9f"
      },
      "outputs": [
        {
          "output_type": "stream",
          "name": "stdout",
          "text": [
            "Reading package lists... Done\n",
            "Building dependency tree... Done\n",
            "Reading state information... Done\n",
            "libpython3.7-dev is already the newest version (3.7.17-1+jammy1).\n",
            "0 upgraded, 0 newly installed, 0 to remove and 51 not upgraded.\n"
          ]
        }
      ],
      "source": [
        "!sudo apt install libpython3.7-dev"
      ]
    },
    {
      "cell_type": "markdown",
      "metadata": {
        "id": "GKOMD_HKRG04"
      },
      "source": [
        "這個命令用於升級 pip、setuptools 和 wheel 到它們的最新版本。這些是 Python 開發中常用的工具，pip 用於安裝 Python 套件，setuptools 用於打包 Python 套件，而 wheel 是一種 Python 套件的二進制打包格式，可以加快套件的安裝速度"
      ]
    },
    {
      "cell_type": "code",
      "execution_count": null,
      "metadata": {
        "colab": {
          "base_uri": "https://localhost:8080/"
        },
        "collapsed": true,
        "id": "ItO__ug9tvy6",
        "outputId": "cf8f68b8-c37e-4e4f-fe94-88b349bcb567"
      },
      "outputs": [
        {
          "output_type": "stream",
          "name": "stdout",
          "text": [
            "Requirement already satisfied: pip in /usr/local/lib/python3.7/dist-packages (24.0)\n",
            "Requirement already satisfied: setuptools in /usr/local/lib/python3.7/dist-packages (68.0.0)\n",
            "Requirement already satisfied: wheel in /usr/local/lib/python3.7/dist-packages (0.42.0)\n",
            "\u001b[33mWARNING: Running pip as the 'root' user can result in broken permissions and conflicting behaviour with the system package manager. It is recommended to use a virtual environment instead: https://pip.pypa.io/warnings/venv\u001b[0m\u001b[33m\n",
            "\u001b[0m"
          ]
        }
      ],
      "source": [
        "pip install --upgrade pip setuptools wheel"
      ]
    },
    {
      "cell_type": "markdown",
      "metadata": {
        "id": "DNi1iyMjRlPl"
      },
      "source": [
        "這個命令將安裝指定版本的 ONNX 套件（1.8.1）。ONNX 是一個開源的深度學習模型交換格式，可以讓不同深度學習框架之間共享模型。"
      ]
    },
    {
      "cell_type": "code",
      "execution_count": null,
      "metadata": {
        "colab": {
          "base_uri": "https://localhost:8080/"
        },
        "id": "rb79PAkbpeK0",
        "outputId": "fe12c6b7-f28b-4b9e-8e4f-0ee8619f1cc8"
      },
      "outputs": [
        {
          "output_type": "stream",
          "name": "stdout",
          "text": [
            "Requirement already satisfied: onnx==1.8.1 in /usr/local/lib/python3.7/dist-packages (1.8.1)\n",
            "Requirement already satisfied: protobuf in /usr/local/lib/python3.7/dist-packages (from onnx==1.8.1) (4.24.4)\n",
            "Requirement already satisfied: numpy>=1.16.6 in /usr/local/lib/python3.7/dist-packages (from onnx==1.8.1) (1.21.6)\n",
            "Requirement already satisfied: six in /usr/lib/python3/dist-packages (from onnx==1.8.1) (1.16.0)\n",
            "Requirement already satisfied: typing-extensions>=3.6.2.1 in /usr/local/lib/python3.7/dist-packages (from onnx==1.8.1) (4.7.1)\n",
            "\u001b[33mWARNING: Running pip as the 'root' user can result in broken permissions and conflicting behaviour with the system package manager. It is recommended to use a virtual environment instead: https://pip.pypa.io/warnings/venv\u001b[0m\u001b[33m\n",
            "\u001b[0m"
          ]
        }
      ],
      "source": [
        "pip install onnx==1.8.1"
      ]
    },
    {
      "cell_type": "markdown",
      "metadata": {
        "id": "gnONr6tcRnM-"
      },
      "source": [
        "檢查onnx版本是不是1.8.1"
      ]
    },
    {
      "cell_type": "code",
      "execution_count": null,
      "metadata": {
        "colab": {
          "base_uri": "https://localhost:8080/"
        },
        "id": "lJUEEIRsKrJc",
        "outputId": "8caad8fa-9599-4938-cabd-caefdc4282f1"
      },
      "outputs": [
        {
          "output_type": "stream",
          "name": "stdout",
          "text": [
            "Name: onnx\n",
            "Version: 1.8.1\n",
            "Summary: Open Neural Network Exchange\n",
            "Home-page: https://github.com/onnx/onnx\n",
            "Author: ONNX\n",
            "Author-email: onnx-technical-discuss@lists.lfai.foundation\n",
            "License: MIT\n",
            "Location: /usr/local/lib/python3.7/dist-packages\n",
            "Requires: numpy, protobuf, six, typing-extensions\n",
            "Required-by: \n"
          ]
        }
      ],
      "source": [
        "pip show onnx"
      ]
    },
    {
      "cell_type": "markdown",
      "metadata": {
        "id": "yQT6ndTcR1D9"
      },
      "source": [
        "這個命令將根據指定的 requirements.txt 文件中列出的依賴關係安裝所需的所有套件。該命令會逐行讀取 requirements.txt 文件，並將其中列出的每個套件安裝到你的 Python 環境中。requirements.txt的路徑不同使用者掛接雲端硬碟將有可能會使檔案路徑改變，請先複製正確的requirements.txt絕對路徑貼在-r 之後，再執行此儲存格。**若有error和warning請忽略並按\"取消\"**，請繼續向下個儲存格執行。"
      ]
    },
    {
      "cell_type": "code",
      "execution_count": null,
      "metadata": {
        "id": "Ioht_NNuB70G"
      },
      "outputs": [],
      "source": [
        "pip install -r /content/drive/MyDrive/aicup/requirements.txt"
      ]
    },
    {
      "cell_type": "markdown",
      "metadata": {
        "id": "U9XUc7CESIRZ"
      },
      "source": [
        "安裝 Cython 和從 GitHub 安裝 COCO API。COCO API 是用於 COCO (Common Objects in Context) 資料集的 Python API，它提供了用於圖像標註和檢測的工具和函數"
      ]
    },
    {
      "cell_type": "code",
      "execution_count": null,
      "metadata": {
        "collapsed": true,
        "id": "v-oHas7L9VKy"
      },
      "outputs": [],
      "source": [
        "pip install cython; pip3 install 'git+https://github.com/cocodataset/cocoapi.git#subdirectory=PythonAPI'"
      ]
    },
    {
      "cell_type": "markdown",
      "metadata": {
        "id": "AXfldWVtSOLo"
      },
      "source": [
        "這個命令用於安裝 cython_bbox 套件，它是一個用於 Cython 編寫的工具，用於計算和操作邊界框（bounding box）的庫。"
      ]
    },
    {
      "cell_type": "code",
      "execution_count": null,
      "metadata": {
        "id": "yqjV94za91X8"
      },
      "outputs": [],
      "source": [
        "pip install cython_bbox"
      ]
    },
    {
      "cell_type": "markdown",
      "metadata": {
        "id": "N2LNH3r3SUsb"
      },
      "source": [
        "這個命令用於安裝 Faiss-GPU，它是一個高效的相似性搜索和聚類庫，特別是針對大規模數據集。Faiss-GPU 使用 GPU 加速相似性搜索，使得處理大規模數據時更加快速和高效。"
      ]
    },
    {
      "cell_type": "code",
      "execution_count": null,
      "metadata": {
        "id": "OQXC8MXe973N"
      },
      "outputs": [],
      "source": [
        "pip install faiss-gpu"
      ]
    },
    {
      "cell_type": "markdown",
      "source": [
        "### Prepare Prepare ReID Dataset"
      ],
      "metadata": {
        "id": "wqphe0sqrFxr"
      }
    },
    {
      "cell_type": "markdown",
      "metadata": {
        "id": "13xv54SRStKV"
      },
      "source": [
        "請確認絕對路徑正確性。在--data_path 後請放上所下載的datasets 下的子目錄train的路徑。接著到 您存放檔案的位置/aicup/fast_reid/datasets/generate_AICUP_patches.py中修改make_parser()的save path部分，將defult=後面填上您的aicup/fast_reid/datasets的位置，也是因為掛接雲端硬碟，絕對路徑皆有所不同，所以需要做這樣的動作。在你的datasets檔案夾中就會出現一個資料夾AICUP-ReID。若出現以下類似這種error FileNotFoundError: [Errno 2] No such file or directory: '/content/drive/MyDrive/aicup/test_train/labels/0902_190000_191900/3_00326 (1).txt'代表在上傳dataset資料夾至google雲端時，系統會不小心上傳同一張照片超過一次我們在建置環境時曾有遇到過，只要至相對應的資料夾刪除同名的照片就能順利進行訓練。"
      ]
    },
    {
      "cell_type": "code",
      "execution_count": null,
      "metadata": {
        "id": "dk_fPyB2MS_3",
        "collapsed": true
      },
      "outputs": [],
      "source": [
        "!python /content/drive/MyDrive/aicup/fast_reid/datasets/generate_AICUP_patches.py --data_path /content/drive/MyDrive/aicup/test_train\n"
      ]
    },
    {
      "cell_type": "markdown",
      "source": [
        "### Prepare YOLOv7 Dataset"
      ],
      "metadata": {
        "id": "srZtqzeA9Ynl"
      }
    },
    {
      "cell_type": "markdown",
      "source": [
        "下面三個位置分別為AICUP_to_YOLOv7.py的絕對路徑，dataset的絕對路徑，和你要產生資料的路徑，我們預設的輸出資料夾路徑是aicup/yolov7/yolo，請將這些路徑改成你們的絕對路徑。"
      ],
      "metadata": {
        "id": "WZQre7AjxYDe"
      }
    },
    {
      "cell_type": "code",
      "source": [
        "%cd \"/content/drive/MyDrive/aicup\"\n",
        "!pwd"
      ],
      "metadata": {
        "colab": {
          "base_uri": "https://localhost:8080/"
        },
        "id": "SHZhvKAZUqzu",
        "outputId": "13f8bd8a-a027-4b50-fb7a-049608b62c33"
      },
      "execution_count": null,
      "outputs": [
        {
          "output_type": "stream",
          "name": "stdout",
          "text": [
            "/content/drive/MyDrive/aicup\n",
            "/content/drive/MyDrive/aicup\n"
          ]
        }
      ]
    },
    {
      "cell_type": "code",
      "execution_count": null,
      "metadata": {
        "id": "JxWKPk71EcdG"
      },
      "outputs": [],
      "source": [
        "!python ./yolov7/tools/AICUP_to_YOLOv7.py --AICUP_dir ./test_train --YOLOv7_dir ./yolov7/yolo"
      ]
    },
    {
      "cell_type": "markdown",
      "source": [
        "###Train the ReID Module for AICUP"
      ],
      "metadata": {
        "id": "h2yQy-FX9s6r"
      }
    },
    {
      "cell_type": "markdown",
      "source": [
        "請先將連結到你們存放aicup資料夾的絕對路徑"
      ],
      "metadata": {
        "id": "0-mW9BiA2QTd"
      }
    },
    {
      "cell_type": "code",
      "source": [
        "%cd \"/content/drive/MyDrive/aicup\"\n",
        "!pwd"
      ],
      "metadata": {
        "colab": {
          "base_uri": "https://localhost:8080/"
        },
        "id": "vC2xyBNDYaF-",
        "outputId": "9b2ac2be-87c9-4e44-9322-4f46817c9f33"
      },
      "execution_count": null,
      "outputs": [
        {
          "output_type": "stream",
          "name": "stdout",
          "text": [
            "/content/drive/MyDrive/aicup\n",
            "/content/drive/MyDrive/aicup\n"
          ]
        }
      ]
    },
    {
      "cell_type": "markdown",
      "source": [
        "將train_net.py路徑設置正確接著將config-file的路徑設為bagtricks_R50-ibn.yml的絕對路徑，並對reid模型進行訓練，reid模型輸出預設在aicup/logs中"
      ],
      "metadata": {
        "id": "QDl6wRfd2b79"
      }
    },
    {
      "cell_type": "code",
      "source": [
        "!python ./fast_reid/tools/train_net.py --config-file /content/drive/MyDrive/aicup/fast_reid/configs/AICUP/bagtricks_R50-ibn.yml MODEL.DEVICE \"cuda:0\""
      ],
      "metadata": {
        "id": "PoKcoCmC038T",
        "collapsed": true
      },
      "execution_count": null,
      "outputs": []
    },
    {
      "cell_type": "markdown",
      "source": [
        "將train_aux.py路徑設置正確，再將-data的路徑連結到AICUP.yaml的絕對路徑，將-data的路徑連結到yolov7-w6-AICUP.yaml的絕對路徑，--weights的路徑連結到yolov7-w6.pt的絕對路徑，--hyp的路徑連結到hyp.scratch.custom.yaml的絕對路徑,--name可以自己設置名字。接著到AICUP.yaml裡面修改train和val的路徑，連接到prepare yolov7 data set輸出的資料夾裏頭的train和val路徑，最後就能成功對yolov7進行訓練，最後模型將存放於aicup/runs/train中"
      ],
      "metadata": {
        "id": "VHuiYtOR2uEo"
      }
    },
    {
      "cell_type": "code",
      "source": [
        "!python ./yolov7/train_aux.py --device 0 --batch-size 2 --epochs 50 --data /content/drive/MyDrive/aicup/yolov7/data/AICUP.yaml --img 1280 1280 --cfg /content/drive/MyDrive/aicup/yolov7/cfg/training/yolov7-w6-AICUP.yaml --weights /content/drive/MyDrive/aicup/pretrained/yolov7-w6.pt --name yolov7-w6-AICUP --hyp /content/drive/MyDrive/aicup/yolov7/data/hyp.scratch.custom.yaml"
      ],
      "metadata": {
        "colab": {
          "base_uri": "https://localhost:8080/"
        },
        "id": "S6cJ8TSAHRA1",
        "outputId": "24dc8ce2-41c2-4f38-b8d8-0581ea5d7654",
        "collapsed": true
      },
      "execution_count": null,
      "outputs": [
        {
          "output_type": "stream",
          "name": "stdout",
          "text": [
            "YOLOv7 🚀 0d5b814 torch 1.13.1+cu117 CUDA:0 (Tesla T4, 15102.0625MB)\n",
            "\n",
            "Namespace(adam=False, artifact_alias='latest', batch_size=2, bbox_interval=-1, bucket='', cache_images=False, cfg='/content/drive/MyDrive/aicup/yolov7/cfg/training/yolov7-w6-AICUP.yaml', data='/content/drive/MyDrive/aicup/yolov7/data/AICUP.yaml', device='0', entity=None, epochs=50, evolve=False, exist_ok=False, global_rank=-1, hyp='/content/drive/MyDrive/aicup/yolov7/data/hyp.scratch.custom.yaml', image_weights=False, img_size=[1280, 1280], label_smoothing=0.0, linear_lr=False, local_rank=-1, multi_scale=False, name='yolov7-w6-AICUP', noautoanchor=False, nosave=False, notest=False, project='runs/train', quad=False, rect=False, resume=False, save_dir='runs/train/yolov7-w6-AICUP22', save_period=-1, single_cls=False, sync_bn=False, total_batch_size=2, upload_dataset=False, weights='/content/drive/MyDrive/aicup/pretrained/yolov7-w6.pt', workers=8, world_size=1)\n",
            "\u001b[34m\u001b[1mtensorboard: \u001b[0mStart with 'tensorboard --logdir runs/train', view at http://localhost:6006/\n",
            "\u001b[34m\u001b[1mhyperparameters: \u001b[0mlr0=0.01, lrf=0.1, momentum=0.937, weight_decay=0.0005, warmup_epochs=3.0, warmup_momentum=0.8, warmup_bias_lr=0.1, box=0.05, cls=0.3, cls_pw=1.0, obj=0.7, obj_pw=1.0, iou_t=0.2, anchor_t=4.0, fl_gamma=0.0, hsv_h=0.015, hsv_s=0.7, hsv_v=0.4, degrees=0.0, translate=0.2, scale=0.5, shear=0.0, perspective=0.0, flipud=0.0, fliplr=0.5, mosaic=1.0, mixup=0.0, copy_paste=0.0, paste_in=0.0\n",
            "\u001b[34m\u001b[1mwandb: \u001b[0mInstall Weights & Biases for YOLOR logging with 'pip install wandb' (recommended)\n",
            "\n",
            "                 from  n    params  module                                  arguments                     \n",
            "  0                -1  1         0  models.common.ReOrg                     []                            \n",
            "  1                -1  1      7040  yolov7.models.common.Conv               [12, 64, 3, 1]                \n",
            "  2                -1  1     73984  yolov7.models.common.Conv               [64, 128, 3, 2]               \n",
            "  3                -1  1      8320  yolov7.models.common.Conv               [128, 64, 1, 1]               \n",
            "  4                -2  1      8320  yolov7.models.common.Conv               [128, 64, 1, 1]               \n",
            "  5                -1  1     36992  yolov7.models.common.Conv               [64, 64, 3, 1]                \n",
            "  6                -1  1     36992  yolov7.models.common.Conv               [64, 64, 3, 1]                \n",
            "  7                -1  1     36992  yolov7.models.common.Conv               [64, 64, 3, 1]                \n",
            "  8                -1  1     36992  yolov7.models.common.Conv               [64, 64, 3, 1]                \n",
            "  9  [-1, -3, -5, -6]  1         0  models.common.Concat                    [1]                           \n",
            " 10                -1  1     33024  yolov7.models.common.Conv               [256, 128, 1, 1]              \n",
            " 11                -1  1    295424  yolov7.models.common.Conv               [128, 256, 3, 2]              \n",
            " 12                -1  1     33024  yolov7.models.common.Conv               [256, 128, 1, 1]              \n",
            " 13                -2  1     33024  yolov7.models.common.Conv               [256, 128, 1, 1]              \n",
            " 14                -1  1    147712  yolov7.models.common.Conv               [128, 128, 3, 1]              \n",
            " 15                -1  1    147712  yolov7.models.common.Conv               [128, 128, 3, 1]              \n",
            " 16                -1  1    147712  yolov7.models.common.Conv               [128, 128, 3, 1]              \n",
            " 17                -1  1    147712  yolov7.models.common.Conv               [128, 128, 3, 1]              \n",
            " 18  [-1, -3, -5, -6]  1         0  models.common.Concat                    [1]                           \n",
            " 19                -1  1    131584  yolov7.models.common.Conv               [512, 256, 1, 1]              \n",
            " 20                -1  1   1180672  yolov7.models.common.Conv               [256, 512, 3, 2]              \n",
            " 21                -1  1    131584  yolov7.models.common.Conv               [512, 256, 1, 1]              \n",
            " 22                -2  1    131584  yolov7.models.common.Conv               [512, 256, 1, 1]              \n",
            " 23                -1  1    590336  yolov7.models.common.Conv               [256, 256, 3, 1]              \n",
            " 24                -1  1    590336  yolov7.models.common.Conv               [256, 256, 3, 1]              \n",
            " 25                -1  1    590336  yolov7.models.common.Conv               [256, 256, 3, 1]              \n",
            " 26                -1  1    590336  yolov7.models.common.Conv               [256, 256, 3, 1]              \n",
            " 27  [-1, -3, -5, -6]  1         0  models.common.Concat                    [1]                           \n",
            " 28                -1  1    525312  yolov7.models.common.Conv               [1024, 512, 1, 1]             \n",
            " 29                -1  1   3540480  yolov7.models.common.Conv               [512, 768, 3, 2]              \n",
            " 30                -1  1    295680  yolov7.models.common.Conv               [768, 384, 1, 1]              \n",
            " 31                -2  1    295680  yolov7.models.common.Conv               [768, 384, 1, 1]              \n",
            " 32                -1  1   1327872  yolov7.models.common.Conv               [384, 384, 3, 1]              \n",
            " 33                -1  1   1327872  yolov7.models.common.Conv               [384, 384, 3, 1]              \n",
            " 34                -1  1   1327872  yolov7.models.common.Conv               [384, 384, 3, 1]              \n",
            " 35                -1  1   1327872  yolov7.models.common.Conv               [384, 384, 3, 1]              \n",
            " 36  [-1, -3, -5, -6]  1         0  models.common.Concat                    [1]                           \n",
            " 37                -1  1   1181184  yolov7.models.common.Conv               [1536, 768, 1, 1]             \n",
            " 38                -1  1   7079936  yolov7.models.common.Conv               [768, 1024, 3, 2]             \n",
            " 39                -1  1    525312  yolov7.models.common.Conv               [1024, 512, 1, 1]             \n",
            " 40                -2  1    525312  yolov7.models.common.Conv               [1024, 512, 1, 1]             \n",
            " 41                -1  1   2360320  yolov7.models.common.Conv               [512, 512, 3, 1]              \n",
            " 42                -1  1   2360320  yolov7.models.common.Conv               [512, 512, 3, 1]              \n",
            " 43                -1  1   2360320  yolov7.models.common.Conv               [512, 512, 3, 1]              \n",
            " 44                -1  1   2360320  yolov7.models.common.Conv               [512, 512, 3, 1]              \n",
            " 45  [-1, -3, -5, -6]  1         0  models.common.Concat                    [1]                           \n",
            " 46                -1  1   2099200  yolov7.models.common.Conv               [2048, 1024, 1, 1]            \n",
            " 47                -1  1   7609344  models.common.SPPCSPC                   [1024, 512, 1]                \n",
            " 48                -1  1    197376  yolov7.models.common.Conv               [512, 384, 1, 1]              \n",
            " 49                -1  1         0  torch.nn.modules.upsampling.Upsample    [None, 2, 'nearest']          \n",
            " 50                37  1    295680  yolov7.models.common.Conv               [768, 384, 1, 1]              \n",
            " 51          [-1, -2]  1         0  models.common.Concat                    [1]                           \n",
            " 52                -1  1    295680  yolov7.models.common.Conv               [768, 384, 1, 1]              \n",
            " 53                -2  1    295680  yolov7.models.common.Conv               [768, 384, 1, 1]              \n",
            " 54                -1  1    663936  yolov7.models.common.Conv               [384, 192, 3, 1]              \n",
            " 55                -1  1    332160  yolov7.models.common.Conv               [192, 192, 3, 1]              \n",
            " 56                -1  1    332160  yolov7.models.common.Conv               [192, 192, 3, 1]              \n",
            " 57                -1  1    332160  yolov7.models.common.Conv               [192, 192, 3, 1]              \n",
            " 58[-1, -2, -3, -4, -5, -6]  1         0  models.common.Concat                    [1]                           \n",
            " 59                -1  1    590592  yolov7.models.common.Conv               [1536, 384, 1, 1]             \n",
            " 60                -1  1     98816  yolov7.models.common.Conv               [384, 256, 1, 1]              \n",
            " 61                -1  1         0  torch.nn.modules.upsampling.Upsample    [None, 2, 'nearest']          \n",
            " 62                28  1    131584  yolov7.models.common.Conv               [512, 256, 1, 1]              \n",
            " 63          [-1, -2]  1         0  models.common.Concat                    [1]                           \n",
            " 64                -1  1    131584  yolov7.models.common.Conv               [512, 256, 1, 1]              \n",
            " 65                -2  1    131584  yolov7.models.common.Conv               [512, 256, 1, 1]              \n",
            " 66                -1  1    295168  yolov7.models.common.Conv               [256, 128, 3, 1]              \n",
            " 67                -1  1    147712  yolov7.models.common.Conv               [128, 128, 3, 1]              \n",
            " 68                -1  1    147712  yolov7.models.common.Conv               [128, 128, 3, 1]              \n",
            " 69                -1  1    147712  yolov7.models.common.Conv               [128, 128, 3, 1]              \n",
            " 70[-1, -2, -3, -4, -5, -6]  1         0  models.common.Concat                    [1]                           \n",
            " 71                -1  1    262656  yolov7.models.common.Conv               [1024, 256, 1, 1]             \n",
            " 72                -1  1     33024  yolov7.models.common.Conv               [256, 128, 1, 1]              \n",
            " 73                -1  1         0  torch.nn.modules.upsampling.Upsample    [None, 2, 'nearest']          \n",
            " 74                19  1     33024  yolov7.models.common.Conv               [256, 128, 1, 1]              \n",
            " 75          [-1, -2]  1         0  models.common.Concat                    [1]                           \n",
            " 76                -1  1     33024  yolov7.models.common.Conv               [256, 128, 1, 1]              \n",
            " 77                -2  1     33024  yolov7.models.common.Conv               [256, 128, 1, 1]              \n",
            " 78                -1  1     73856  yolov7.models.common.Conv               [128, 64, 3, 1]               \n",
            " 79                -1  1     36992  yolov7.models.common.Conv               [64, 64, 3, 1]                \n",
            " 80                -1  1     36992  yolov7.models.common.Conv               [64, 64, 3, 1]                \n",
            " 81                -1  1     36992  yolov7.models.common.Conv               [64, 64, 3, 1]                \n",
            " 82[-1, -2, -3, -4, -5, -6]  1         0  models.common.Concat                    [1]                           \n",
            " 83                -1  1     65792  yolov7.models.common.Conv               [512, 128, 1, 1]              \n",
            " 84                -1  1    295424  yolov7.models.common.Conv               [128, 256, 3, 2]              \n",
            " 85          [-1, 71]  1         0  models.common.Concat                    [1]                           \n",
            " 86                -1  1    131584  yolov7.models.common.Conv               [512, 256, 1, 1]              \n",
            " 87                -2  1    131584  yolov7.models.common.Conv               [512, 256, 1, 1]              \n",
            " 88                -1  1    295168  yolov7.models.common.Conv               [256, 128, 3, 1]              \n",
            " 89                -1  1    147712  yolov7.models.common.Conv               [128, 128, 3, 1]              \n",
            " 90                -1  1    147712  yolov7.models.common.Conv               [128, 128, 3, 1]              \n",
            " 91                -1  1    147712  yolov7.models.common.Conv               [128, 128, 3, 1]              \n",
            " 92[-1, -2, -3, -4, -5, -6]  1         0  models.common.Concat                    [1]                           \n",
            " 93                -1  1    262656  yolov7.models.common.Conv               [1024, 256, 1, 1]             \n",
            " 94                -1  1    885504  yolov7.models.common.Conv               [256, 384, 3, 2]              \n",
            " 95          [-1, 59]  1         0  models.common.Concat                    [1]                           \n",
            " 96                -1  1    295680  yolov7.models.common.Conv               [768, 384, 1, 1]              \n",
            " 97                -2  1    295680  yolov7.models.common.Conv               [768, 384, 1, 1]              \n",
            " 98                -1  1    663936  yolov7.models.common.Conv               [384, 192, 3, 1]              \n",
            " 99                -1  1    332160  yolov7.models.common.Conv               [192, 192, 3, 1]              \n",
            "100                -1  1    332160  yolov7.models.common.Conv               [192, 192, 3, 1]              \n",
            "101                -1  1    332160  yolov7.models.common.Conv               [192, 192, 3, 1]              \n",
            "102[-1, -2, -3, -4, -5, -6]  1         0  models.common.Concat                    [1]                           \n",
            "103                -1  1    590592  yolov7.models.common.Conv               [1536, 384, 1, 1]             \n",
            "104                -1  1   1770496  yolov7.models.common.Conv               [384, 512, 3, 2]              \n",
            "105          [-1, 47]  1         0  models.common.Concat                    [1]                           \n",
            "106                -1  1    525312  yolov7.models.common.Conv               [1024, 512, 1, 1]             \n",
            "107                -2  1    525312  yolov7.models.common.Conv               [1024, 512, 1, 1]             \n",
            "108                -1  1   1180160  yolov7.models.common.Conv               [512, 256, 3, 1]              \n",
            "109                -1  1    590336  yolov7.models.common.Conv               [256, 256, 3, 1]              \n",
            "110                -1  1    590336  yolov7.models.common.Conv               [256, 256, 3, 1]              \n",
            "111                -1  1    590336  yolov7.models.common.Conv               [256, 256, 3, 1]              \n",
            "112[-1, -2, -3, -4, -5, -6]  1         0  models.common.Concat                    [1]                           \n",
            "113                -1  1   1049600  yolov7.models.common.Conv               [2048, 512, 1, 1]             \n",
            "114                83  1    295424  yolov7.models.common.Conv               [128, 256, 3, 1]              \n",
            "115                93  1   1180672  yolov7.models.common.Conv               [256, 512, 3, 1]              \n",
            "116               103  1   2655744  yolov7.models.common.Conv               [384, 768, 3, 1]              \n",
            "117               113  1   4720640  yolov7.models.common.Conv               [512, 1024, 3, 1]             \n",
            "118                83  1    369280  yolov7.models.common.Conv               [128, 320, 3, 1]              \n",
            "119                71  1   1475840  yolov7.models.common.Conv               [256, 640, 3, 1]              \n",
            "120                59  1   3319680  yolov7.models.common.Conv               [384, 960, 3, 1]              \n",
            "121                47  1   5900800  yolov7.models.common.Conv               [512, 1280, 3, 1]             \n",
            "122[114, 115, 116, 117, 118, 119, 120, 121]  1    106456  models.yolo.IAuxDetect                  [1, [[19, 27, 44, 40, 38, 94], [96, 68, 86, 152, 180, 137], [140, 301, 303, 264, 238, 542], [436, 615, 739, 380, 925, 792]], [256, 512, 768, 1024, 320, 640, 960, 1280]]\n",
            "/usr/local/lib/python3.7/dist-packages/torch/functional.py:504: UserWarning: torch.meshgrid: in an upcoming release, it will be required to pass the indexing argument. (Triggered internally at ../aten/src/ATen/native/TensorShape.cpp:3190.)\n",
            "  return _VF.meshgrid(tensors, **kwargs)  # type: ignore[attr-defined]\n",
            "Model Summary: 477 layers, 80944472 parameters, 80944472 gradients, 102.4 GFLOPS\n",
            "\n",
            "Transferred 618/668 items from /content/drive/MyDrive/aicup/pretrained/yolov7-w6.pt\n",
            "Scaled weight_decay = 0.0005\n",
            "Optimizer groups: 115 .bias, 115 conv.weight, 115 other\n",
            "\u001b[34m\u001b[1mtrain: \u001b[0mScanning '/content/drive/MyDrive/aicup/yolov7/yolo/train/labels' images and labels... 29 found, 0 missing, 0 empty, 0 corrupted:   1% 29/2880 [01:29<2:26:38,  3.09s/it]\n",
            "Traceback (most recent call last):\n",
            "  File \"./yolov7/train_aux.py\", line 613, in <module>\n",
            "^C\n"
          ]
        }
      ]
    },
    {
      "cell_type": "markdown",
      "metadata": {
        "id": "0eE5AyiUPPYC"
      },
      "source": []
    }
  ],
  "metadata": {
    "accelerator": "GPU",
    "colab": {
      "gpuType": "T4",
      "provenance": [],
      "authorship_tag": "ABX9TyPoEcWp3W8P+BkiVLbQ7K2V",
      "include_colab_link": true
    },
    "kernelspec": {
      "display_name": "Python 3",
      "name": "python3"
    },
    "language_info": {
      "name": "python"
    }
  },
  "nbformat": 4,
  "nbformat_minor": 0
}