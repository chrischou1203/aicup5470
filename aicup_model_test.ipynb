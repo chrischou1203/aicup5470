{
  "nbformat": 4,
  "nbformat_minor": 0,
  "metadata": {
    "colab": {
      "provenance": [],
      "gpuType": "T4",
      "authorship_tag": "ABX9TyOd8VcHh6MwvIfq+UJyDWJ9",
      "include_colab_link": true
    },
    "kernelspec": {
      "name": "python3",
      "display_name": "Python 3"
    },
    "language_info": {
      "name": "python"
    },
    "accelerator": "GPU"
  },
  "cells": [
    {
      "cell_type": "markdown",
      "metadata": {
        "id": "view-in-github",
        "colab_type": "text"
      },
      "source": [
        "<a href=\"https://colab.research.google.com/github/chrischou1203/aicup5470/blob/main/aicup_model_test.ipynb\" target=\"_parent\"><img src=\"https://colab.research.google.com/assets/colab-badge.svg\" alt=\"Open In Colab\"/></a>"
      ]
    },
    {
      "cell_type": "markdown",
      "source": [
        "# 環境建置"
      ],
      "metadata": {
        "id": "xv7bE9id_Sxn"
      }
    },
    {
      "cell_type": "markdown",
      "source": [
        "掛接雲端硬碟"
      ],
      "metadata": {
        "id": "OkACikeI_Vsy"
      }
    },
    {
      "cell_type": "code",
      "execution_count": 1,
      "metadata": {
        "colab": {
          "base_uri": "https://localhost:8080/"
        },
        "id": "RMuV9BHw-5vP",
        "outputId": "66400e79-dd9f-4c36-83e0-d9584de3b0ed"
      },
      "outputs": [
        {
          "output_type": "stream",
          "name": "stdout",
          "text": [
            "Mounted at /content/drive\n"
          ]
        }
      ],
      "source": [
        "from google.colab import drive\n",
        "drive.mount('/content/drive')"
      ]
    },
    {
      "cell_type": "markdown",
      "source": [
        "這個函數允許你在不更改 requirements 檔案中其他依賴的情況下，將指定庫的版本替換為通用版本。"
      ],
      "metadata": {
        "id": "oo8kLsXy_a--"
      }
    },
    {
      "cell_type": "code",
      "source": [
        "!sudo apt-get install python3.7\n",
        "!sudo apt-get update -y\n",
        "!sudo update-alternatives --install /usr/bin/python3 python3 /usr/bin/python3.7 1\n",
        "!sudo update-alternatives --config python3\n",
        "!sudo apt install python3-pip"
      ],
      "metadata": {
        "id": "ARSay-jNCDT1",
        "collapsed": true
      },
      "execution_count": null,
      "outputs": []
    },
    {
      "cell_type": "code",
      "source": [
        "!sudo apt-get install python3.7-distutils"
      ],
      "metadata": {
        "id": "IiFrR6QPCNK9"
      },
      "execution_count": null,
      "outputs": []
    },
    {
      "cell_type": "code",
      "source": [
        "!sudo apt install libpython3.7-dev"
      ],
      "metadata": {
        "id": "27hozwm1CQaR"
      },
      "execution_count": null,
      "outputs": []
    },
    {
      "cell_type": "code",
      "source": [
        "pip install --upgrade pip setuptools wheel"
      ],
      "metadata": {
        "id": "-CnqpeqJCVt7"
      },
      "execution_count": null,
      "outputs": []
    },
    {
      "cell_type": "code",
      "source": [
        "pip install onnx==1.8.1"
      ],
      "metadata": {
        "id": "h7uhPeiNDA8i"
      },
      "execution_count": null,
      "outputs": []
    },
    {
      "cell_type": "markdown",
      "source": [
        "這個命令將根據指定的 requirements.txt 文件中列出的依賴關係安裝所需的所有套件。該命令會逐行讀取 requirements.txt 文件，並將其中列出的每個套件安裝到你的 Python 環境中。requirements.txt的路徑不同使用者掛接雲端硬碟將有可能會使檔案路徑改變，請先複製正確的requirements.txt絕對路徑貼在-r 之後，再執行此儲存格。若有error和warning請忽略並按\"取消\"，請繼續向下個儲存格執行"
      ],
      "metadata": {
        "id": "FF2aU4o4Dz8-"
      }
    },
    {
      "cell_type": "code",
      "source": [
        "pip install -r /content/drive/MyDrive/aicup/requirements.txt"
      ],
      "metadata": {
        "id": "whlEdaUvDdMI"
      },
      "execution_count": null,
      "outputs": []
    },
    {
      "cell_type": "markdown",
      "source": [
        "安裝 Cython 和從 GitHub 安裝 COCO API。COCO API 是用於 COCO (Common Objects in Context) 資料集的 Python API，它提供了用於圖像標註和檢測的工具和函數"
      ],
      "metadata": {
        "id": "B0gGaMk1ibIS"
      }
    },
    {
      "cell_type": "code",
      "source": [
        "pip install cython; pip3 install 'git+https://github.com/cocodataset/cocoapi.git#subdirectory=PythonAPI'"
      ],
      "metadata": {
        "id": "3b-t4k1UD4IC"
      },
      "execution_count": null,
      "outputs": []
    },
    {
      "cell_type": "markdown",
      "source": [
        "這個命令用於安裝 cython_bbox 套件，它是一個用於 Cython 編寫的工具，用於計算和操作邊界框（bounding box）的庫。"
      ],
      "metadata": {
        "id": "9knCs4f_imcr"
      }
    },
    {
      "cell_type": "code",
      "source": [
        "pip install cython_bbox"
      ],
      "metadata": {
        "id": "i31WPcE6GIiW"
      },
      "execution_count": null,
      "outputs": []
    },
    {
      "cell_type": "markdown",
      "source": [
        "這個命令用於安裝 Faiss-GPU，它是一個高效的相似性搜索和聚類庫，特別是針對大規模數據集。Faiss-GPU 使用 GPU 加速相似性搜索，使得處理大規模數據時更加快速和高效"
      ],
      "metadata": {
        "id": "Y4Y1md6BiqiK"
      }
    },
    {
      "cell_type": "code",
      "source": [
        "pip install faiss-gpu"
      ],
      "metadata": {
        "id": "bye6hRU2GNQH"
      },
      "execution_count": null,
      "outputs": []
    },
    {
      "cell_type": "code",
      "source": [
        "%cd \"/content/drive/MyDrive/aicup\"\n",
        "!pwd"
      ],
      "metadata": {
        "colab": {
          "base_uri": "https://localhost:8080/"
        },
        "id": "IOAjXAxzK_k0",
        "outputId": "a096b297-fd88-4988-9bc2-a990100a29f4"
      },
      "execution_count": 11,
      "outputs": [
        {
          "output_type": "stream",
          "name": "stdout",
          "text": [
            "/content/drive/MyDrive/aicup\n",
            "/content/drive/MyDrive/aicup\n"
          ]
        }
      ]
    },
    {
      "cell_type": "markdown",
      "source": [
        "\n",
        "這些命令用於在 Ubuntu 系統上下載並安裝 CUDA 11.3。它們分別完成以下任務：\n",
        "\n",
        "下載 CUDA 11.3 安裝包。\n",
        "安裝下載的 CUDA 11.3 安裝包。\n",
        "獲取 NVIDIA 的 GPG 金鑰以進行驗證。\n",
        "更新系統的軟件包列表。\n",
        "安裝 CUDA 11.3 軟件包及其依賴項。"
      ],
      "metadata": {
        "id": "AELI94I0i58o"
      }
    },
    {
      "cell_type": "code",
      "source": [
        "!wget https://developer.download.nvidia.com/compute/cuda/repos/ubuntu1804/x86_64/cuda-11-3_11.3.0-1_amd64.deb\n",
        "!dpkg -i cuda-11-3_11.3.0-1_amd64.deb\n",
        "!apt-key adv --fetch-keys https://developer.download.nvidia.com/compute/cuda/repos/ubuntu1804/x86_64/7fa2af80.pub\n",
        "!apt-get update\n",
        "!apt-get install cuda-11-3"
      ],
      "metadata": {
        "id": "JtlGEX3cdA8S"
      },
      "execution_count": null,
      "outputs": []
    },
    {
      "cell_type": "markdown",
      "source": [
        "這個命令用於安裝特定版本的 PyTorch、TorchVision 和 Torchaudio 库，并确保它们与 CUDA 11.3 兼容。"
      ],
      "metadata": {
        "id": "OP_RNbjrjLr5"
      }
    },
    {
      "cell_type": "code",
      "source": [
        "!pip install torch==1.11.0+cu113 torchvision==0.12.0+cu113 torchaudio==0.11.0 -f https://download.pytorch.org/whl/torch_stable.html"
      ],
      "metadata": {
        "id": "-W0rvSODOd3z"
      },
      "execution_count": null,
      "outputs": []
    },
    {
      "cell_type": "markdown",
      "source": [
        "確定cuda存在"
      ],
      "metadata": {
        "id": "7jcubdCvjNQ9"
      }
    },
    {
      "cell_type": "code",
      "source": [
        "import torch\n",
        "print(torch.cuda.is_available())"
      ],
      "metadata": {
        "colab": {
          "base_uri": "https://localhost:8080/"
        },
        "id": "N_sxoRmSQIuI",
        "outputId": "aa808671-411c-4b46-e22d-8e631f97128d"
      },
      "execution_count": 14,
      "outputs": [
        {
          "output_type": "stream",
          "name": "stdout",
          "text": [
            "True\n"
          ]
        }
      ]
    },
    {
      "cell_type": "code",
      "source": [
        "%cd \"/content/drive/MyDrive/aicup\"\n",
        "!pwd"
      ],
      "metadata": {
        "colab": {
          "base_uri": "https://localhost:8080/"
        },
        "id": "rtt3AjFKeOXk",
        "outputId": "9fc26662-579b-4f75-a608-db70873aa014"
      },
      "execution_count": 15,
      "outputs": [
        {
          "output_type": "stream",
          "name": "stdout",
          "text": [
            "/content/drive/MyDrive/aicup\n",
            "/content/drive/MyDrive/aicup\n"
          ]
        }
      ]
    },
    {
      "cell_type": "markdown",
      "source": [
        "對每個時間戳進行預測，請注意路徑設置正確"
      ],
      "metadata": {
        "id": "Q-76ni1RjTRo"
      }
    },
    {
      "cell_type": "code",
      "source": [
        "!python ./tools/mc_demo_yolov7.py --weights ./model_weight/best.pt --source ./dataset_test/0902_130006_131041 --device \"0\" --name \"0902_130006_131041\" --fuse-score --agnostic-nms --with-reid --fast-reid-config ./fast_reid/configs/AICUP/bagtricks_R50-ibn.yml --fast-reid-weights ./model_weight/model_0058.pth"
      ],
      "metadata": {
        "id": "DdSu5ykfGT_i"
      },
      "execution_count": null,
      "outputs": []
    }
  ]
}